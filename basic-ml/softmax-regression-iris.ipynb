{
 "cells": [
  {
   "cell_type": "code",
   "execution_count": 1,
   "id": "bf6f1b00-fd7e-4373-988a-b340b0d34b1e",
   "metadata": {},
   "outputs": [
    {
     "name": "stdout",
     "output_type": "stream",
     "text": [
      "Intel MKL WARNING: Support of Intel(R) Streaming SIMD Extensions 4.2 (Intel(R) SSE4.2) enabled only processors has been deprecated. Intel oneAPI Math Kernel Library 2025.0 will require Intel(R) Advanced Vector Extensions (Intel(R) AVX) instructions.\n",
      "Intel MKL WARNING: Support of Intel(R) Streaming SIMD Extensions 4.2 (Intel(R) SSE4.2) enabled only processors has been deprecated. Intel oneAPI Math Kernel Library 2025.0 will require Intel(R) Advanced Vector Extensions (Intel(R) AVX) instructions.\n"
     ]
    }
   ],
   "source": [
    "from torchvision import datasets\n",
    "from torchvision import transforms\n",
    "from torch.utils.data import DataLoader\n",
    "import torch.nn.functional as F\n",
    "import torch\n",
    "import numpy as np"
   ]
  },
  {
   "cell_type": "markdown",
   "id": "1aa117b5-0c1f-4297-baf8-396322b50c59",
   "metadata": {},
   "source": [
    "## Settings and Dataset"
   ]
  },
  {
   "cell_type": "code",
   "execution_count": 2,
   "id": "b1d7d056-2d00-40b4-aa23-ba21fc04914f",
   "metadata": {},
   "outputs": [],
   "source": [
    "## Settings\n",
    "\n",
    "# device\n",
    "device = torch.device(\"cuda:0\" if torch.cuda.is_available() else \"cpu\")\n",
    "\n",
    "# hyperparameters\n",
    "random_seed = 0\n",
    "learning_rate = 0.05\n",
    "num_epochs = 10\n",
    "batch_size = 8\n",
    "\n",
    "# architecture\n",
    "num_features = 2\n",
    "num_classes = 3\n"
   ]
  },
  {
   "cell_type": "code",
   "execution_count": 3,
   "id": "f5c8ec29-557b-42aa-95ef-865d502d4cdf",
   "metadata": {},
   "outputs": [
    {
     "name": "stdout",
     "output_type": "stream",
     "text": [
      "Class label counts: [50 50 50]\n",
      "X.shape: (150, 2)\n",
      "y.shape: (150,)\n"
     ]
    }
   ],
   "source": [
    "# IRIS dataset\n",
    "\n",
    "data = np.genfromtxt('../data/iris.data', delimiter=',', dtype=str)\n",
    "X, y = data[:, [2, 3]], data[:, 4]\n",
    "X = X.astype(float)\n",
    "\n",
    "d = {'Iris-setosa': 0, 'Iris-versicolor': 1, 'Iris-virginica': 2}\n",
    "y = np.array([d[x] for x in y])\n",
    "y = y.astype(int)\n",
    "\n",
    "print('Class label counts:', np.bincount(y))\n",
    "print('X.shape:', X.shape)\n",
    "print('y.shape:', y.shape)\n",
    "\n",
    "# Shuffling & train/test split\n",
    "shuffle_idx = np.arange(y.shape[0])\n",
    "shuffle_rng = np.random.RandomState(123)\n",
    "shuffle_rng.shuffle(shuffle_idx)\n",
    "X, y = X[shuffle_idx], y[shuffle_idx]\n",
    "\n",
    "X_train, X_test = X[shuffle_idx[:70]], X[shuffle_idx[70:]]\n",
    "y_train, y_test = y[shuffle_idx[:70]], y[shuffle_idx[70:]]\n",
    "\n",
    "# Normalize (mean zero, unit variance)\n",
    "mu, sigma = X_train.mean(axis=0), X_train.std(axis=0)\n",
    "X_train = (X_train - mu) / sigma\n",
    "X_test = (X_test - mu) / sigma"
   ]
  },
  {
   "cell_type": "code",
   "execution_count": 4,
   "id": "540ed589-79c0-4417-857b-a18f50e8506e",
   "metadata": {},
   "outputs": [],
   "source": [
    "## Data Loaders\n",
    "\n",
    "from torch.utils.data import Dataset\n",
    "from torch.utils.data import DataLoader\n",
    "\n",
    "\n",
    "class MyDataset(Dataset):\n",
    "\n",
    "    def __init__(self, X, y):\n",
    "    \n",
    "        self.X = torch.tensor(X, dtype=torch.float32)\n",
    "        self.y = torch.tensor(y, dtype=torch.int64)\n",
    "\n",
    "    def __getitem__(self, index):\n",
    "        training_example, training_label = self.X[index], self.y[index]\n",
    "        return training_example, training_label\n",
    "\n",
    "    def __len__(self):\n",
    "        return self.y.shape[0]\n",
    "    \n",
    "    \n",
    "train_dataset = MyDataset(X[:100], y[:100])\n",
    "test_dataset = MyDataset(X[100:], y[100:])\n",
    "\n",
    "\n",
    "train_loader = DataLoader(dataset=train_dataset,\n",
    "                          batch_size=batch_size,\n",
    "                          shuffle=True)\n",
    "\n",
    "test_loader = DataLoader(dataset=test_dataset,\n",
    "                         batch_size=batch_size,\n",
    "                         shuffle=False)"
   ]
  },
  {
   "cell_type": "code",
   "execution_count": 5,
   "id": "292ac79c-711a-4c7f-96a3-241d95a3e615",
   "metadata": {},
   "outputs": [],
   "source": [
    "## Model\n",
    "\n",
    "class SoftmaxRegression(torch.nn.Module):\n",
    "\n",
    "    def __init__(self, num_features, num_classes):\n",
    "        super(SoftmaxRegression, self).__init__()\n",
    "        self.linear = torch.nn.Linear(num_features, num_classes)\n",
    "\n",
    "        self.linear.weight.detach().zero_()\n",
    "        self.linear.bias.detach().zero_()\n",
    "\n",
    "    def forward(self, x):\n",
    "        logits = self.linear(x)\n",
    "        probas = torch.softmax(logits, dim=1)\n",
    "        return logits, probas\n",
    "\n",
    "model = SoftmaxRegression(num_features=num_features,\n",
    "                          num_classes=num_classes)\n",
    "\n",
    "model.to(device)\n",
    "\n",
    "# cost and optimizer\n",
    "\n",
    "optimizer = torch.optim.Adam(model.parameters(), lr=learning_rate)"
   ]
  },
  {
   "cell_type": "code",
   "execution_count": 6,
   "id": "32f31478-58b1-47a2-a3f1-d2b195cb5933",
   "metadata": {},
   "outputs": [
    {
     "name": "stdout",
     "output_type": "stream",
     "text": [
      "Epoch: 001/010 | Batch 000/012 | Cost: 1.0986\n",
      "Epoch: 001/010 training accuracy: 33.00%\n",
      "Epoch: 002/010 | Batch 000/012 | Cost: 0.8322\n",
      "Epoch: 002/010 training accuracy: 72.00%\n",
      "Epoch: 003/010 | Batch 000/012 | Cost: 0.8241\n",
      "Epoch: 003/010 training accuracy: 75.00%\n",
      "Epoch: 004/010 | Batch 000/012 | Cost: 0.5644\n",
      "Epoch: 004/010 training accuracy: 93.00%\n",
      "Epoch: 005/010 | Batch 000/012 | Cost: 0.6460\n",
      "Epoch: 005/010 training accuracy: 72.00%\n",
      "Epoch: 006/010 | Batch 000/012 | Cost: 0.6106\n",
      "Epoch: 006/010 training accuracy: 88.00%\n",
      "Epoch: 007/010 | Batch 000/012 | Cost: 0.5200\n",
      "Epoch: 007/010 training accuracy: 81.00%\n",
      "Epoch: 008/010 | Batch 000/012 | Cost: 0.5416\n",
      "Epoch: 008/010 training accuracy: 93.00%\n",
      "Epoch: 009/010 | Batch 000/012 | Cost: 0.4425\n",
      "Epoch: 009/010 training accuracy: 81.00%\n",
      "Epoch: 010/010 | Batch 000/012 | Cost: 0.3994\n",
      "Epoch: 010/010 training accuracy: 78.00%\n"
     ]
    }
   ],
   "source": [
    "# manual seed for deterministic data loader\n",
    "torch.manual_seed(random_seed)\n",
    "\n",
    "def compute_accuracy(model, data_loader):\n",
    "    correct_pred, num_examples = 0, 0\n",
    "\n",
    "    for features, targets in data_loader:\n",
    "        features = features.to(device)\n",
    "        targets = targets.to(device)\n",
    "        logits, probas = model(features)\n",
    "        _, predicted_labels = torch.max(probas, 1)\n",
    "        num_examples += targets.size(0)\n",
    "        correct_pred += (predicted_labels == targets).sum()\n",
    "\n",
    "    return correct_pred.float() / num_examples * 100\n",
    "\n",
    "for epoch in range(num_epochs):\n",
    "    for batch_idx, (features, targets) in enumerate(train_loader):\n",
    "\n",
    "        features = features.to(device)\n",
    "        targets = targets.to(device)\n",
    "\n",
    "        # forward and backprop\n",
    "        logits, probas = model(features)\n",
    "\n",
    "        # note pytorch corss entropy takes in logits instead of probas\n",
    "        cost = F.cross_entropy(logits, targets)\n",
    "        optimizer.zero_grad()\n",
    "        cost.backward()\n",
    "\n",
    "        optimizer.step()\n",
    "\n",
    "        # logging\n",
    "        if not batch_idx % 50:\n",
    "            print ('Epoch: %03d/%03d | Batch %03d/%03d | Cost: %.4f' \n",
    "                   %(epoch+1, num_epochs, batch_idx, \n",
    "                     len(train_dataset)//batch_size, cost))\n",
    "\n",
    "    with torch.set_grad_enabled(False):\n",
    "        print('Epoch: %03d/%03d training accuracy: %.2f%%' % (\n",
    "              epoch+1, num_epochs, \n",
    "              compute_accuracy(model, train_loader))) "
   ]
  },
  {
   "cell_type": "code",
   "execution_count": 7,
   "id": "dde80d66-ef0a-41f9-8ea7-0db947e9b2f8",
   "metadata": {},
   "outputs": [
    {
     "name": "stdout",
     "output_type": "stream",
     "text": [
      "Test accuracy: 64.00%\n"
     ]
    }
   ],
   "source": [
    "print('Test accuracy: %.2f%%' % (compute_accuracy(model, test_loader)))"
   ]
  },
  {
   "cell_type": "markdown",
   "id": "92f27064-fded-4abe-a730-30779c58c53f",
   "metadata": {},
   "source": [
    "## ModelWrapper for plot_decision_region"
   ]
  },
  {
   "cell_type": "code",
   "execution_count": 8,
   "id": "5ad362af-ca16-4cbd-adfa-567931c90c32",
   "metadata": {},
   "outputs": [],
   "source": [
    "class ModelWrapper():\n",
    "    def __init__(self, model, device):\n",
    "        self.model = model\n",
    "        self.device = device\n",
    "\n",
    "    def predict(self, X):\n",
    "        features = torch.tensor(X, dtype=torch.float32, device=self.device)\n",
    "        logits, probas = self.model(features)\n",
    "        _, predicted_labels = torch.max(probas, 1)\n",
    "\n",
    "        return predicted_labels.numpy()"
   ]
  },
  {
   "cell_type": "code",
   "execution_count": 9,
   "id": "1e2c8fb4-2ed5-4f94-b57e-b52b715451ca",
   "metadata": {},
   "outputs": [],
   "source": [
    "mymodel = ModelWrapper(model, device=torch.device('cpu'))"
   ]
  },
  {
   "cell_type": "code",
   "execution_count": 10,
   "id": "fc92a32e-14cd-44f6-80b4-e9a4d0bd9cd9",
   "metadata": {},
   "outputs": [
    {
     "data": {
      "image/png": "[encoded data removed]",
      "text/plain": [
       "<Figure size 640x480 with 1 Axes>"
      ]
     },
     "metadata": {},
     "output_type": "display_data"
    }
   ],
   "source": [
    "%matplotlib inline\n",
    "import matplotlib.pyplot as plt\n",
    "from mlxtend.plotting import plot_decision_regions\n",
    "\n",
    "plot_decision_regions(X, y, mymodel)\n",
    "plt.show()"
   ]
  },
  {
   "cell_type": "code",
   "execution_count": null,
   "id": "ce8a8e6e-3e96-4f3b-9e7a-3f9080dcac63",
   "metadata": {},
   "outputs": [],
   "source": []
  }
 ],
 "metadata": {
  "kernelspec": {
   "display_name": "Python 3 (ipykernel)",
   "language": "python",
   "name": "python3"
  },
  "language_info": {
   "codemirror_mode": {
    "name": "ipython",
    "version": 3
   },
   "file_extension": ".py",
   "mimetype": "text/x-python",
   "name": "python",
   "nbconvert_exporter": "python",
   "pygments_lexer": "ipython3",
   "version": "3.9.19"
  }
 },
 "nbformat": 4,
 "nbformat_minor": 5
}
