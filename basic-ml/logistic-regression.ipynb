{
 "cells": [
  {
   "cell_type": "code",
   "execution_count": 2,
   "id": "e40102c7-f921-4f1b-b0fe-e207103b9b9e",
   "metadata": {},
   "outputs": [],
   "source": [
    "import numpy as np\n",
    "from io import BytesIO\n",
    "\n",
    "import torch\n",
    "import torch.nn.functional as F\n",
    "\n",
    "import matplotlib.pyplot as plt\n",
    "%matplotlib inline"
   ]
  },
  {
   "cell_type": "markdown",
   "id": "589639ee-7db9-4d4d-9c1c-e18dca5f5718",
   "metadata": {},
   "source": [
    "## Preparing a toy dataset"
   ]
  },
  {
   "cell_type": "code",
   "execution_count": 6,
   "id": "037c91a5-3945-4010-94ae-d7f8deeaee55",
   "metadata": {},
   "outputs": [
    {
     "data": {
      "image/png": "[encoded data removed]",
      "text/plain": [
       "<Figure size 700x250 with 2 Axes>"
      ]
     },
     "metadata": {},
     "output_type": "display_data"
    }
   ],
   "source": [
    "## Dataset\n",
    "\n",
    "ds = np.lib.DataSource()\n",
    "fp = ds.open('http://archive.ics.uci.edu/ml/machine-learning-databases/iris/iris.data')\n",
    "\n",
    "x = np.genfromtxt(BytesIO(fp.read().encode()), delimiter=',', usecols=range(2), max_rows=100)\n",
    "y = np.zeros(100)\n",
    "y[50:] = 1\n",
    "\n",
    "np.random.seed(1)\n",
    "idx = np.arange(y.shape[0])\n",
    "np.random.shuffle(idx)\n",
    "X_test, y_test = x[idx[:25]], y[idx[:25]]\n",
    "X_train, y_train = x[idx[25:]], y[idx[25:]]\n",
    "mu, std = np.mean(X_train, axis=0), np.std(X_train, axis=0)\n",
    "X_train, X_test = (X_train - mu) / std, (X_test - mu) / std\n",
    "\n",
    "fig, ax = plt.subplots(1, 2, figsize=(7, 2.5))\n",
    "ax[0].scatter(X_train[y_train == 1, 0], X_train[y_train == 1, 1])\n",
    "ax[0].scatter(X_train[y_train == 0, 0], X_train[y_train == 0, 1])\n",
    "ax[1].scatter(X_test[y_test == 1, 0], X_test[y_test == 1, 1])\n",
    "ax[1].scatter(X_test[y_test == 0, 0], X_test[y_test == 0, 1])\n",
    "plt.show()"
   ]
  },
  {
   "cell_type": "markdown",
   "id": "38485287-1de0-4388-aacd-c8e22e12bd20",
   "metadata": {},
   "source": [
    "## Low-level implementation with manual gradient"
   ]
  },
  {
   "cell_type": "code",
   "execution_count": 18,
   "id": "2d64fee2-7496-4b28-954e-67ddf8891511",
   "metadata": {},
   "outputs": [],
   "source": [
    "device = torch.device(\"cuda:0\" if torch.cuda.is_available() else \"cpu\")\n",
    "\n",
    "def custom_where(cond, x_1, x_2):\n",
    "    return (cond * x_1) + (~(cond) * x_2)\n",
    "\n",
    "class LogisticRegression1():\n",
    "    def __init__(self, num_features):\n",
    "        self.num_features = num_features\n",
    "        self.weights = torch.zeros(num_features, 1, dtype=torch.float32, device=device)\n",
    "        self.bias = torch.zeros(1, dtype=torch.float32, device=device)\n",
    "    \n",
    "    def forward(self, x):\n",
    "        linear = torch.add(torch.mm(x, self.weights), self.bias)\n",
    "        probas = self._sigmoid(linear)\n",
    "        return probas\n",
    "\n",
    "    def backward(self, probas, y):\n",
    "        errors = y - probas.view(-1)\n",
    "        return errors\n",
    "\n",
    "    def predict_labels(self, x):\n",
    "        probas = self.forward(x)\n",
    "        labels = custom_where(probas >= 0.5, 1, 0)\n",
    "        return labels\n",
    "\n",
    "    def evaluate(self, x, y):\n",
    "        labels = self.predict_labels(x).float()\n",
    "        accuracy = torch.sum(labels.view(-1) == y) / y.size()[0]\n",
    "        return accuracy\n",
    "\n",
    "    def _sigmoid(self, z):\n",
    "        return 1. / (1. + torch.exp(-z))\n",
    "    \n",
    "    def _logit_cost(self, y, proba):\n",
    "        tmp1 = torch.mm(-y.view(1, -1), torch.log(proba))\n",
    "        tmp2 = torch.mm((1 - y).view(1, -1), torch.log(1 - proba))\n",
    "        return tmp1 - tmp2\n",
    "\n",
    "    def train(self, x, y, num_epochs, learning_rate=0.01):\n",
    "        for e in range(num_epochs):\n",
    "\n",
    "            ## compute output\n",
    "            probas = self.forward(x)\n",
    "\n",
    "            ## compute gradients\n",
    "            errors = self.backward(probas, y)\n",
    "            neg_grad = torch.mm(x.transpose(0, 1), errors.view(-1,1))\n",
    "\n",
    "            ## update weights\n",
    "            self.weights += learning_rate * neg_grad\n",
    "            self.bias += learning_rate * torch.sum(errors)\n",
    "\n",
    "            ## logging\n",
    "            print('Epoch: %03 % (e+1)', end=\"\")\n",
    "            print(' | Train Acc: %.3f' % self.evaluate(x, y), end=\"\")\n",
    "            print(' | Cost: %3f' % self._logit_cost(y, self.forward(x)))\n",
    "    "
   ]
  },
  {
   "cell_type": "code",
   "execution_count": 19,
   "id": "83ea4cfe-0c05-4968-bca8-1571a4782491",
   "metadata": {},
   "outputs": [
    {
     "name": "stdout",
     "output_type": "stream",
     "text": [
      "Epoch: %03 % (e+1) | Train Acc: 0.987 | Cost: 5.581018\n",
      "Epoch: %03 % (e+1) | Train Acc: 0.987 | Cost: 4.882451\n",
      "Epoch: %03 % (e+1) | Train Acc: 1.000 | Cost: 4.381064\n",
      "Epoch: %03 % (e+1) | Train Acc: 1.000 | Cost: 3.998165\n",
      "Epoch: %03 % (e+1) | Train Acc: 1.000 | Cost: 3.693163\n",
      "Epoch: %03 % (e+1) | Train Acc: 1.000 | Cost: 3.442688\n",
      "Epoch: %03 % (e+1) | Train Acc: 1.000 | Cost: 3.232194\n",
      "Epoch: %03 % (e+1) | Train Acc: 1.000 | Cost: 3.052091\n",
      "Epoch: %03 % (e+1) | Train Acc: 1.000 | Cost: 2.895748\n",
      "Epoch: %03 % (e+1) | Train Acc: 1.000 | Cost: 2.758410\n",
      "\n",
      "Model parameters:\n",
      " Weights: tensor([[ 4.2267],\n",
      "        [-2.9613]])\n",
      " Bias: tensor([0.0994])\n"
     ]
    }
   ],
   "source": [
    "X_train_tensor = torch.tensor(X_train, dtype=torch.float32, device=device)\n",
    "y_train_tensor = torch.tensor(y_train, dtype=torch.float32, device=device)\n",
    "\n",
    "logr = LogisticRegression1(num_features=2)\n",
    "logr.train(X_train_tensor, y_train_tensor, num_epochs=10, learning_rate=0.1)\n",
    "\n",
    "print('\\nModel parameters:')\n",
    "print(' Weights: %s' % logr.weights)\n",
    "print(' Bias: %s' % logr.bias)"
   ]
  },
  {
   "cell_type": "markdown",
   "id": "794bd20d-c5d5-43af-ac5b-2503754522c5",
   "metadata": {},
   "source": [
    "## Evaluating the model"
   ]
  },
  {
   "cell_type": "code",
   "execution_count": 20,
   "id": "2a1e9be7-a320-4314-b1c2-5edb3933b651",
   "metadata": {},
   "outputs": [
    {
     "name": "stdout",
     "output_type": "stream",
     "text": [
      "Test set accuracy: 100.00%\n"
     ]
    }
   ],
   "source": [
    "X_test_tensor = torch.tensor(X_test, dtype=torch.float32, device=device)\n",
    "y_test_tensor = torch.tensor(y_test, dtype=torch.float32, device=device)\n",
    "\n",
    "test_acc = logr.evaluate(X_test_tensor, y_test_tensor)\n",
    "print('Test set accuracy: %.2f%%' % (test_acc*100))"
   ]
  },
  {
   "cell_type": "code",
   "execution_count": 21,
   "id": "dda13adb-fde8-4dcf-9d39-f851c339c7a6",
   "metadata": {},
   "outputs": [
    {
     "data": {
      "image/png": "[encoded data removed]",
      "text/plain": [
       "<Figure size 700x300 with 2 Axes>"
      ]
     },
     "metadata": {},
     "output_type": "display_data"
    }
   ],
   "source": [
    "### 2D Decision Boundary\n",
    "\n",
    "w, b = logr.weights, logr.bias\n",
    "\n",
    "x_min = -2\n",
    "y_min = ( (-(w[0] * x_min) - b[0]) \n",
    "          / w[1] )\n",
    "\n",
    "x_max = 2\n",
    "y_max = ( (-(w[0] * x_max) - b[0]) \n",
    "          / w[1] )\n",
    "\n",
    "\n",
    "fig, ax = plt.subplots(1, 2, sharex=True, figsize=(7, 3))\n",
    "\n",
    "ax[0].plot([x_min, x_max], [y_min, y_max])\n",
    "ax[1].plot([x_min, x_max], [y_min, y_max])\n",
    "\n",
    "ax[0].scatter(X_train[y_train==0, 0], X_train[y_train==0, 1], label='class 0', marker='o')\n",
    "ax[0].scatter(X_train[y_train==1, 0], X_train[y_train==1, 1], label='class 1', marker='s')\n",
    "\n",
    "ax[1].scatter(X_test[y_test==0, 0], X_test[y_test==0, 1], label='class 0', marker='o')\n",
    "ax[1].scatter(X_test[y_test==1, 0], X_test[y_test==1, 1], label='class 1', marker='s')\n",
    "\n",
    "ax[1].legend(loc='upper left')\n",
    "plt.show()"
   ]
  },
  {
   "cell_type": "markdown",
   "id": "e8737b41-7c2e-40c8-a095-07d4cd27c66b",
   "metadata": {},
   "source": [
    "## Low-level implementation using autograd"
   ]
  },
  {
   "cell_type": "code",
   "execution_count": 39,
   "id": "00766494-3004-4093-92a8-b4b28440a803",
   "metadata": {},
   "outputs": [],
   "source": [
    "def custom_where(cond, x_1, x_2):\n",
    "    return (cond * x_1) + (~(cond) * x_2)\n",
    "\n",
    "class LogisticRegression2():\n",
    "    def __init__(self, num_features):\n",
    "        self.num_features = num_features\n",
    "        self.weights = torch.zeros(num_features, 1,\n",
    "                                   dtype=torch.float32,\n",
    "                                   device=device,\n",
    "                                   requires_grad=True) # req. for autograd\n",
    "        self.bias = torch.zeros(1, dtype=torch.float32,\n",
    "                          device = device,\n",
    "                          requires_grad=True) # req. for autograd\n",
    "\n",
    "    def forward(self, x):\n",
    "        linear = torch.add(torch.mm(x, self.weights), self.bias)\n",
    "        probas = self._sigmoid(linear)\n",
    "        return probas\n",
    "\n",
    "    # def bacward() - implemented by autograd in torch\n",
    "\n",
    "    def predict_labels(self, x):\n",
    "        probas = self.forward(x)\n",
    "        labels = custom_where(probas > 0.5, 1, 0)\n",
    "        return labels\n",
    "\n",
    "    def evaluate(self, x, y):\n",
    "        labels = self.predict_labels(x)\n",
    "        accuracy = torch.sum(labels.view(-1) == y.view(-1).float()) / y.size()[0]\n",
    "        return accuracy\n",
    "\n",
    "    def _sigmoid(self, z):\n",
    "        return 1. / (1. + torch.exp(-z))\n",
    "\n",
    "    def _logit_cost(self, y, proba):\n",
    "        tmp1 = torch.mm(-y.view(1, -1), torch.log(proba))\n",
    "        tmp2 = torch.mm((1 - y).view(1, -1), torch.log(1 - proba))\n",
    "        return tmp1 - tmp2\n",
    "\n",
    "    def train(self, x, y, num_epochs, learning_rate=0.01):\n",
    "        for e in range(num_epochs):\n",
    "            ## compute output\n",
    "            proba = self.forward(x)\n",
    "            cost = self._logit_cost(y, proba)\n",
    "\n",
    "            ## compute gradients\n",
    "            cost.backward()\n",
    "\n",
    "            ## update weights\n",
    "            tmp = self.weights.detach()\n",
    "            tmp -= learning_rate * self.weights.grad\n",
    "\n",
    "            tmp = self.bias.detach()\n",
    "            tmp -= learning_rate * self.bias.grad\n",
    "\n",
    "            ## reset gradients to zero for next iteration\n",
    "            self.weights.grad.zero_()\n",
    "            self.bias.grad.zero_()\n",
    "\n",
    "            ## logging\n",
    "            print('Epoch: %03d' % (e+1), end=\"\")\n",
    "            print(' | Train ACC: %.3f' % self.evaluate(x, y), end=\"\")\n",
    "            print(' | Cost: %.3f' % self._logit_cost(y, self.forward(x)))"
   ]
  },
  {
   "cell_type": "code",
   "execution_count": 40,
   "id": "ef69c68b-ad9b-42a8-8151-0a550b9a93bb",
   "metadata": {},
   "outputs": [
    {
     "name": "stdout",
     "output_type": "stream",
     "text": [
      "Epoch: 001 | Train ACC: 0.987 | Cost: 5.581\n",
      "Epoch: 002 | Train ACC: 0.987 | Cost: 4.882\n",
      "Epoch: 003 | Train ACC: 1.000 | Cost: 4.381\n",
      "Epoch: 004 | Train ACC: 1.000 | Cost: 3.998\n",
      "Epoch: 005 | Train ACC: 1.000 | Cost: 3.693\n",
      "Epoch: 006 | Train ACC: 1.000 | Cost: 3.443\n",
      "Epoch: 007 | Train ACC: 1.000 | Cost: 3.232\n",
      "Epoch: 008 | Train ACC: 1.000 | Cost: 3.052\n",
      "Epoch: 009 | Train ACC: 1.000 | Cost: 2.896\n",
      "Epoch: 010 | Train ACC: 1.000 | Cost: 2.758\n",
      "\n",
      "Model parameters:\n",
      "  Weights: tensor([[ 4.2267],\n",
      "        [-2.9613]], requires_grad=True)\n",
      "  Bias: tensor([0.0994], requires_grad=True)\n"
     ]
    }
   ],
   "source": [
    "X_train_tensor = torch.tensor(X_train, dtype=torch.float32, device=device)\n",
    "y_train_tensor = torch.tensor(y_train, dtype=torch.float32, device=device)\n",
    "\n",
    "logr = LogisticRegression2(num_features=2)\n",
    "logr.train(X_train_tensor, y_train_tensor, num_epochs=10, learning_rate=0.1)\n",
    "\n",
    "print('\\nModel parameters:')\n",
    "print('  Weights: %s' % logr.weights)\n",
    "print('  Bias: %s' % logr.bias)"
   ]
  },
  {
   "cell_type": "markdown",
   "id": "a566c011-d2d1-4c41-afaf-8941237910a3",
   "metadata": {},
   "source": [
    "## Evaluating the model"
   ]
  },
  {
   "cell_type": "code",
   "execution_count": 41,
   "id": "fd8bcd9d-9973-4872-a761-de744ebe13cd",
   "metadata": {},
   "outputs": [
    {
     "name": "stdout",
     "output_type": "stream",
     "text": [
      "Test set accuracy: 100.00%\n"
     ]
    }
   ],
   "source": [
    "X_test_tensor = torch.tensor(X_test, dtype=torch.float32, device=device)\n",
    "y_test_tensor = torch.tensor(y_test, dtype=torch.float32, device=device)\n",
    "\n",
    "test_acc = logr.evaluate(X_test_tensor, y_test_tensor)\n",
    "print('Test set accuracy: %.2f%%' % (test_acc*100))"
   ]
  },
  {
   "cell_type": "markdown",
   "id": "f72b0671-345e-4218-904d-161cd307c44d",
   "metadata": {},
   "source": [
    "## High-level implementation"
   ]
  },
  {
   "cell_type": "code",
   "execution_count": 46,
   "id": "41b8d5e2-fb85-4f94-a89e-a23db9304bd5",
   "metadata": {},
   "outputs": [],
   "source": [
    "class LogisticRegression3(torch.nn.Module):\n",
    "    def __init__(self, num_features):\n",
    "        super(LogisticRegression3, self).__init__()\n",
    "        self.linear = torch.nn.Linear(num_features, 1)\n",
    "\n",
    "        # initialize weights to zero to match manual approach\n",
    "        self.linear.weight.detach().zero_()\n",
    "        self.linear.bias.detach().zero_()\n",
    "\n",
    "    def forward(self, x):\n",
    "        logits = self.linear(x)\n",
    "        probas = torch.sigmoid(logits)\n",
    "        return probas\n",
    "\n",
    "model = LogisticRegression3(num_features=2).to(device)"
   ]
  },
  {
   "cell_type": "code",
   "execution_count": 47,
   "id": "72bede21-8657-4c01-9994-5e5470e42ec0",
   "metadata": {},
   "outputs": [],
   "source": [
    "# Cost function and Optimizer\n",
    "cost_fn = torch.nn.BCELoss(reduction='sum')\n",
    "optimizer = torch.optim.SGD(model.parameters(), lr=0.1)"
   ]
  },
  {
   "cell_type": "code",
   "execution_count": 49,
   "id": "82bc0316-ba38-40f3-aee4-3ffc2e5a3aab",
   "metadata": {},
   "outputs": [
    {
     "name": "stdout",
     "output_type": "stream",
     "text": [
      "Epoch: 001 | Train ACC: 0.987 | Cost: 4.882\n",
      "Epoch: 002 | Train ACC: 1.000 | Cost: 4.381\n",
      "Epoch: 003 | Train ACC: 1.000 | Cost: 3.998\n",
      "Epoch: 004 | Train ACC: 1.000 | Cost: 3.693\n",
      "Epoch: 005 | Train ACC: 1.000 | Cost: 3.443\n",
      "Epoch: 006 | Train ACC: 1.000 | Cost: 3.232\n",
      "Epoch: 007 | Train ACC: 1.000 | Cost: 3.052\n",
      "Epoch: 008 | Train ACC: 1.000 | Cost: 2.896\n",
      "Epoch: 009 | Train ACC: 1.000 | Cost: 2.758\n",
      "Epoch: 010 | Train ACC: 1.000 | Cost: 2.637\n",
      "\n",
      "Model parameters:\n",
      "  Weights: Parameter containing:\n",
      "tensor([[ 4.3264, -3.0095]], requires_grad=True)\n",
      "  Bias: Parameter containing:\n",
      "tensor([0.1163], requires_grad=True)\n"
     ]
    }
   ],
   "source": [
    "def custom_where(cond, x_1, x_2):\n",
    "    return (cond * x_1) + ((1-cond) * x_2)\n",
    "\n",
    "def comp_accuracy(label_var, pred_probas):\n",
    "    pred_labels = custom_where((pred_probas > 0.5).float(), 1, 0).view(-1)\n",
    "    acc = torch.sum(pred_labels == label_var.view(-1)).float() / label_var.size(0)\n",
    "    return acc\n",
    "\n",
    "num_epochs = 10\n",
    "\n",
    "X_train_tensor = torch.tensor(X_train, dtype=torch.float32, device=device)\n",
    "y_train_tensor = torch.tensor(y_train, dtype=torch.float32, device=device).view(-1, 1)\n",
    "\n",
    "for epoch in range(num_epochs):\n",
    "    ## compute outputs\n",
    "    out = model(X_train_tensor)\n",
    "\n",
    "    ## compute gradients\n",
    "    cost = cost_fn(out, y_train_tensor)\n",
    "    optimizer.zero_grad()\n",
    "    cost.backward()\n",
    "\n",
    "    ## update weights\n",
    "    optimizer.step()\n",
    "\n",
    "    ## logging\n",
    "    pred_probas = model(X_train_tensor)\n",
    "    acc = comp_accuracy(y_train_tensor, pred_probas)\n",
    "    print('Epoch: %03d' % (epoch + 1), end=\"\")\n",
    "    print(' | Train ACC: %.3f' % acc, end=\"\")\n",
    "    print(' | Cost: %.3f' % cost_fn(pred_probas, y_train_tensor))\n",
    "\n",
    "\n",
    "print('\\nModel parameters:')\n",
    "print('  Weights: %s' % model.linear.weight)\n",
    "print('  Bias: %s' % model.linear.bias)"
   ]
  },
  {
   "cell_type": "markdown",
   "id": "f71c05ea-5300-4302-ac1c-ea6a6f598c8b",
   "metadata": {},
   "source": [
    "## Evaluating model"
   ]
  },
  {
   "cell_type": "code",
   "execution_count": 50,
   "id": "904ae6b8-e5eb-4a2d-859b-35b3e270eab6",
   "metadata": {},
   "outputs": [
    {
     "name": "stdout",
     "output_type": "stream",
     "text": [
      "Test set accuracy: 100.00%\n"
     ]
    }
   ],
   "source": [
    "X_test_tensor = torch.tensor(X_test, dtype=torch.float32, device=device)\n",
    "y_test_tensor = torch.tensor(y_test, dtype=torch.float32, device=device)\n",
    "\n",
    "pred_probas = model(X_test_tensor)\n",
    "test_acc = comp_accuracy(y_test_tensor, pred_probas)\n",
    "\n",
    "print('Test set accuracy: %.2f%%' % (test_acc*100))"
   ]
  },
  {
   "cell_type": "code",
   "execution_count": null,
   "id": "2f0388e1-da29-4d6d-9f24-d172f7095102",
   "metadata": {},
   "outputs": [],
   "source": []
  }
 ],
 "metadata": {
  "kernelspec": {
   "display_name": "Python 3 (ipykernel)",
   "language": "python",
   "name": "python3"
  },
  "language_info": {
   "codemirror_mode": {
    "name": "ipython",
    "version": 3
   },
   "file_extension": ".py",
   "mimetype": "text/x-python",
   "name": "python",
   "nbconvert_exporter": "python",
   "pygments_lexer": "ipython3",
   "version": "3.9.19"
  }
 },
 "nbformat": 4,
 "nbformat_minor": 5
}
