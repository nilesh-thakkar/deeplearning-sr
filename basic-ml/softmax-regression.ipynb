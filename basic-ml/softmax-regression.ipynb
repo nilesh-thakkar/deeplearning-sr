{
 "cells": [
  {
   "cell_type": "code",
   "execution_count": 1,
   "id": "bf6f1b00-fd7e-4373-988a-b340b0d34b1e",
   "metadata": {},
   "outputs": [],
   "source": [
    "from torchvision import datasets\n",
    "from torchvision import transforms\n",
    "from torch.utils.data import DataLoader\n",
    "import torch.nn.functional as F\n",
    "import torch"
   ]
  },
  {
   "cell_type": "markdown",
   "id": "1aa117b5-0c1f-4297-baf8-396322b50c59",
   "metadata": {},
   "source": [
    "## Settings and Dataset"
   ]
  },
  {
   "cell_type": "code",
   "execution_count": 3,
   "id": "b1d7d056-2d00-40b4-aa23-ba21fc04914f",
   "metadata": {},
   "outputs": [
    {
     "name": "stdout",
     "output_type": "stream",
     "text": [
      "Downloading http://yann.lecun.com/exdb/mnist/train-images-idx3-ubyte.gz\n",
      "Failed to download (trying next):\n",
      "HTTP Error 403: Forbidden\n",
      "\n",
      "Downloading https://ossci-datasets.s3.amazonaws.com/mnist/train-images-idx3-ubyte.gz\n",
      "Downloading https://ossci-datasets.s3.amazonaws.com/mnist/train-images-idx3-ubyte.gz to data/MNIST/raw/train-images-idx3-ubyte.gz\n"
     ]
    },
    {
     "name": "stderr",
     "output_type": "stream",
     "text": [
      "100.0%\n"
     ]
    },
    {
     "name": "stdout",
     "output_type": "stream",
     "text": [
      "Extracting data/MNIST/raw/train-images-idx3-ubyte.gz to data/MNIST/raw\n",
      "\n",
      "Downloading http://yann.lecun.com/exdb/mnist/train-labels-idx1-ubyte.gz\n",
      "Failed to download (trying next):\n",
      "HTTP Error 403: Forbidden\n",
      "\n",
      "Downloading https://ossci-datasets.s3.amazonaws.com/mnist/train-labels-idx1-ubyte.gz\n",
      "Downloading https://ossci-datasets.s3.amazonaws.com/mnist/train-labels-idx1-ubyte.gz to data/MNIST/raw/train-labels-idx1-ubyte.gz\n"
     ]
    },
    {
     "name": "stderr",
     "output_type": "stream",
     "text": [
      "100.0%\n"
     ]
    },
    {
     "name": "stdout",
     "output_type": "stream",
     "text": [
      "Extracting data/MNIST/raw/train-labels-idx1-ubyte.gz to data/MNIST/raw\n",
      "\n",
      "Downloading http://yann.lecun.com/exdb/mnist/t10k-images-idx3-ubyte.gz\n",
      "Failed to download (trying next):\n",
      "HTTP Error 403: Forbidden\n",
      "\n",
      "Downloading https://ossci-datasets.s3.amazonaws.com/mnist/t10k-images-idx3-ubyte.gz\n",
      "Downloading https://ossci-datasets.s3.amazonaws.com/mnist/t10k-images-idx3-ubyte.gz to data/MNIST/raw/t10k-images-idx3-ubyte.gz\n"
     ]
    },
    {
     "name": "stderr",
     "output_type": "stream",
     "text": [
      "100.0%\n"
     ]
    },
    {
     "name": "stdout",
     "output_type": "stream",
     "text": [
      "Extracting data/MNIST/raw/t10k-images-idx3-ubyte.gz to data/MNIST/raw\n",
      "\n",
      "Downloading http://yann.lecun.com/exdb/mnist/t10k-labels-idx1-ubyte.gz\n",
      "Failed to download (trying next):\n",
      "HTTP Error 403: Forbidden\n",
      "\n",
      "Downloading https://ossci-datasets.s3.amazonaws.com/mnist/t10k-labels-idx1-ubyte.gz\n",
      "Downloading https://ossci-datasets.s3.amazonaws.com/mnist/t10k-labels-idx1-ubyte.gz to data/MNIST/raw/t10k-labels-idx1-ubyte.gz\n"
     ]
    },
    {
     "name": "stderr",
     "output_type": "stream",
     "text": [
      "100.0%"
     ]
    },
    {
     "name": "stdout",
     "output_type": "stream",
     "text": [
      "Extracting data/MNIST/raw/t10k-labels-idx1-ubyte.gz to data/MNIST/raw\n",
      "\n",
      "Image batch dimensions: torch.Size([256, 1, 28, 28])\n",
      "Image label dimensions: torch.Size([256])\n"
     ]
    },
    {
     "name": "stderr",
     "output_type": "stream",
     "text": [
      "\n"
     ]
    }
   ],
   "source": [
    "## Settings\n",
    "\n",
    "# device\n",
    "device = torch.device(\"cuda:0\" if torch.cuda.is_available() else \"cpu\")\n",
    "\n",
    "# hyperparameters\n",
    "random_seed = 123\n",
    "learning_rate = 0.1\n",
    "num_epochs = 10\n",
    "batch_size = 256\n",
    "\n",
    "# architecture\n",
    "num_features = 784\n",
    "num_classes = 70\n",
    "\n",
    "# MNIST dataset\n",
    "\n",
    "train_dataset = datasets.MNIST(root='data',\n",
    "                              train=True,\n",
    "                              transform=transforms.ToTensor(),\n",
    "                              download=True)\n",
    "\n",
    "test_dataset = datasets.MNIST(root='data',\n",
    "                              train=False,\n",
    "                              transform=transforms.ToTensor(),\n",
    "                              download=True)\n",
    "\n",
    "train_loader = DataLoader(dataset=train_dataset,\n",
    "                          batch_size=batch_size,\n",
    "                          shuffle=True)\n",
    "\n",
    "test_loader = DataLoader(dataset=test_dataset,\n",
    "                         batch_size=batch_size,\n",
    "                         shuffle=False)\n",
    "\n",
    "# checking\n",
    "for images, labels in train_loader:\n",
    "    print('Image batch dimensions:', images.shape)\n",
    "    print('Image label dimensions:', labels.shape)\n",
    "    break"
   ]
  },
  {
   "cell_type": "code",
   "execution_count": 4,
   "id": "292ac79c-711a-4c7f-96a3-241d95a3e615",
   "metadata": {},
   "outputs": [],
   "source": [
    "## Model\n",
    "\n",
    "class SoftmaxRegression(torch.nn.Module):\n",
    "\n",
    "    def __init__(self, num_features, num_classes):\n",
    "        super(SoftmaxRegression, self).__init__()\n",
    "        self.linear = torch.nn.Linear(num_features, num_classes)\n",
    "\n",
    "        self.linear.weight.detach().zero_()\n",
    "        self.linear.bias.detach().zero_()\n",
    "\n",
    "    def forward(self, x):\n",
    "        logits = self.linear(x)\n",
    "        probas = torch.softmax(logits, dim=1)\n",
    "        return logits, probas\n",
    "\n",
    "model = SoftmaxRegression(num_features=num_features,\n",
    "                          num_classes=num_classes)\n",
    "\n",
    "model.to(device)\n",
    "\n",
    "# cost and optimizer\n",
    "\n",
    "optimizer = torch.optim.SGD(model.parameters(), lr=learning_rate)"
   ]
  },
  {
   "cell_type": "code",
   "execution_count": 8,
   "id": "32f31478-58b1-47a2-a3f1-d2b195cb5933",
   "metadata": {},
   "outputs": [
    {
     "name": "stdout",
     "output_type": "stream",
     "text": [
      "Epoch: 001/010 | Batch 000/234 | Cost: 0.5039\n",
      "Epoch: 001/010 | Batch 050/234 | Cost: 0.4120\n",
      "Epoch: 001/010 | Batch 100/234 | Cost: 0.3381\n",
      "Epoch: 001/010 | Batch 150/234 | Cost: 0.4571\n",
      "Epoch: 001/010 | Batch 200/234 | Cost: 0.4656\n",
      "Epoch: 001/010 training accuracy: 89.32%\n",
      "Epoch: 002/010 | Batch 000/234 | Cost: 0.4025\n",
      "Epoch: 002/010 | Batch 050/234 | Cost: 0.3127\n",
      "Epoch: 002/010 | Batch 100/234 | Cost: 0.4108\n",
      "Epoch: 002/010 | Batch 150/234 | Cost: 0.3294\n",
      "Epoch: 002/010 | Batch 200/234 | Cost: 0.4515\n",
      "Epoch: 002/010 training accuracy: 89.86%\n",
      "Epoch: 003/010 | Batch 000/234 | Cost: 0.3746\n",
      "Epoch: 003/010 | Batch 050/234 | Cost: 0.4154\n",
      "Epoch: 003/010 | Batch 100/234 | Cost: 0.3610\n",
      "Epoch: 003/010 | Batch 150/234 | Cost: 0.3686\n",
      "Epoch: 003/010 | Batch 200/234 | Cost: 0.2767\n",
      "Epoch: 003/010 training accuracy: 90.37%\n",
      "Epoch: 004/010 | Batch 000/234 | Cost: 0.4124\n",
      "Epoch: 004/010 | Batch 050/234 | Cost: 0.3743\n",
      "Epoch: 004/010 | Batch 100/234 | Cost: 0.3609\n",
      "Epoch: 004/010 | Batch 150/234 | Cost: 0.3751\n",
      "Epoch: 004/010 | Batch 200/234 | Cost: 0.3009\n",
      "Epoch: 004/010 training accuracy: 90.58%\n",
      "Epoch: 005/010 | Batch 000/234 | Cost: 0.2960\n",
      "Epoch: 005/010 | Batch 050/234 | Cost: 0.3649\n",
      "Epoch: 005/010 | Batch 100/234 | Cost: 0.3547\n",
      "Epoch: 005/010 | Batch 150/234 | Cost: 0.3061\n",
      "Epoch: 005/010 | Batch 200/234 | Cost: 0.3152\n",
      "Epoch: 005/010 training accuracy: 90.84%\n",
      "Epoch: 006/010 | Batch 000/234 | Cost: 0.3158\n",
      "Epoch: 006/010 | Batch 050/234 | Cost: 0.4090\n",
      "Epoch: 006/010 | Batch 100/234 | Cost: 0.3068\n",
      "Epoch: 006/010 | Batch 150/234 | Cost: 0.2600\n",
      "Epoch: 006/010 | Batch 200/234 | Cost: 0.3129\n",
      "Epoch: 006/010 training accuracy: 91.03%\n",
      "Epoch: 007/010 | Batch 000/234 | Cost: 0.3528\n",
      "Epoch: 007/010 | Batch 050/234 | Cost: 0.2924\n",
      "Epoch: 007/010 | Batch 100/234 | Cost: 0.2960\n",
      "Epoch: 007/010 | Batch 150/234 | Cost: 0.3378\n",
      "Epoch: 007/010 | Batch 200/234 | Cost: 0.3010\n",
      "Epoch: 007/010 training accuracy: 91.17%\n",
      "Epoch: 008/010 | Batch 000/234 | Cost: 0.2930\n",
      "Epoch: 008/010 | Batch 050/234 | Cost: 0.3834\n",
      "Epoch: 008/010 | Batch 100/234 | Cost: 0.2436\n",
      "Epoch: 008/010 | Batch 150/234 | Cost: 0.3059\n",
      "Epoch: 008/010 | Batch 200/234 | Cost: 0.3750\n",
      "Epoch: 008/010 training accuracy: 91.33%\n",
      "Epoch: 009/010 | Batch 000/234 | Cost: 0.2282\n",
      "Epoch: 009/010 | Batch 050/234 | Cost: 0.2275\n",
      "Epoch: 009/010 | Batch 100/234 | Cost: 0.2327\n",
      "Epoch: 009/010 | Batch 150/234 | Cost: 0.2567\n",
      "Epoch: 009/010 | Batch 200/234 | Cost: 0.3480\n",
      "Epoch: 009/010 training accuracy: 91.43%\n",
      "Epoch: 010/010 | Batch 000/234 | Cost: 0.3281\n",
      "Epoch: 010/010 | Batch 050/234 | Cost: 0.3445\n",
      "Epoch: 010/010 | Batch 100/234 | Cost: 0.3170\n",
      "Epoch: 010/010 | Batch 150/234 | Cost: 0.3203\n",
      "Epoch: 010/010 | Batch 200/234 | Cost: 0.2515\n",
      "Epoch: 010/010 training accuracy: 91.58%\n"
     ]
    }
   ],
   "source": [
    "# manual seed for deterministic data loader\n",
    "torch.manual_seed(random_seed)\n",
    "\n",
    "def compute_accuracy(model, data_loader):\n",
    "    correct_pred, num_examples = 0, 0\n",
    "\n",
    "    for features, targets in data_loader:\n",
    "        features = features.view(-1, 28*28).to(device)\n",
    "        targets = targets.to(device)\n",
    "        logits, probas = model(features)\n",
    "        _, predicted_labels = torch.max(probas, 1)\n",
    "        num_examples += targets.size(0)\n",
    "        correct_pred += (predicted_labels == targets).sum()\n",
    "\n",
    "    return correct_pred.float() / num_examples * 100\n",
    "\n",
    "for epoch in range(num_epochs):\n",
    "    for batch_idx, (features, targets) in enumerate(train_loader):\n",
    "\n",
    "        features = features.view(-1, 28*28).to(device)\n",
    "        targets = targets.to(device)\n",
    "\n",
    "        # forward and backprop\n",
    "        logits, probas = model(features)\n",
    "\n",
    "        # note pytorch corss entropy takes in logits instead of probas\n",
    "        cost = F.cross_entropy(logits, targets)\n",
    "        optimizer.zero_grad()\n",
    "        cost.backward()\n",
    "\n",
    "        optimizer.step()\n",
    "\n",
    "        # logging\n",
    "        if not batch_idx % 50:\n",
    "            print ('Epoch: %03d/%03d | Batch %03d/%03d | Cost: %.4f' \n",
    "                   %(epoch+1, num_epochs, batch_idx, \n",
    "                     len(train_dataset)//batch_size, cost))\n",
    "\n",
    "    with torch.set_grad_enabled(False):\n",
    "        print('Epoch: %03d/%03d training accuracy: %.2f%%' % (\n",
    "              epoch+1, num_epochs, \n",
    "              compute_accuracy(model, train_loader))) "
   ]
  },
  {
   "cell_type": "code",
   "execution_count": 9,
   "id": "dde80d66-ef0a-41f9-8ea7-0db947e9b2f8",
   "metadata": {},
   "outputs": [
    {
     "name": "stdout",
     "output_type": "stream",
     "text": [
      "Test accuracy: 91.71%\n"
     ]
    }
   ],
   "source": [
    "print('Test accuracy: %.2f%%' % (compute_accuracy(model, test_loader)))"
   ]
  },
  {
   "cell_type": "code",
   "execution_count": null,
   "id": "aa7d0911-019b-4f1f-a894-93d9e63b5899",
   "metadata": {},
   "outputs": [],
   "source": []
  }
 ],
 "metadata": {
  "kernelspec": {
   "display_name": "Python 3 (ipykernel)",
   "language": "python",
   "name": "python3"
  },
  "language_info": {
   "codemirror_mode": {
    "name": "ipython",
    "version": 3
   },
   "file_extension": ".py",
   "mimetype": "text/x-python",
   "name": "python",
   "nbconvert_exporter": "python",
   "pygments_lexer": "ipython3",
   "version": "3.9.19"
  }
 },
 "nbformat": 4,
 "nbformat_minor": 5
}
