{
 "cells": [
  {
   "cell_type": "markdown",
   "id": "6dd48f63-d130-41db-84d0-cd65d006cecf",
   "metadata": {},
   "source": [
    "# Autoencoder"
   ]
  },
  {
   "cell_type": "markdown",
   "id": "25cbe711-ebd9-4a05-ae82-e685e2444081",
   "metadata": {},
   "source": [
    "A simple, single-layer autoencoder that compresses 768-pixel MNIST images into 32-pixel vectors (32-times smaller representations)."
   ]
  },
  {
   "cell_type": "code",
   "execution_count": 2,
   "id": "80d51371-0d35-4983-b6ef-22f5f2bfd9a5",
   "metadata": {},
   "outputs": [],
   "source": [
    "import time\n",
    "import numpy as np\n",
    "import torch\n",
    "import torch.nn.functional as F\n",
    "from torchvision import datasets\n",
    "from torchvision import transforms\n",
    "from torch.utils.data import DataLoader\n",
    "\n",
    "if torch.cuda.is_available():\n",
    "    torch.backends.cudnn.deterministic = True"
   ]
  },
  {
   "cell_type": "markdown",
   "id": "819939e7-6b31-4a26-9266-e15998cc4a9f",
   "metadata": {},
   "source": [
    "## Settings"
   ]
  },
  {
   "cell_type": "code",
   "execution_count": 3,
   "id": "845d2a7c-b31a-455b-ba45-958e85b97cc4",
   "metadata": {},
   "outputs": [
    {
     "name": "stdout",
     "output_type": "stream",
     "text": [
      "Device: cpu\n"
     ]
    }
   ],
   "source": [
    "# Device\n",
    "device = torch.device(\"cuda:0\" if torch.cuda.is_available() else \"cpu\")\n",
    "print('Device:', device)\n",
    "\n",
    "# Hyperparameters\n",
    "random_seed = 123\n",
    "learning_rate = 0.005\n",
    "num_epochs = 5\n",
    "batch_size = 256\n",
    "\n",
    "# Architecture\n",
    "num_features = 784\n",
    "num_hidden_1 = 32"
   ]
  },
  {
   "cell_type": "markdown",
   "id": "43027657-6bd4-44ab-bff5-322d6793c16d",
   "metadata": {},
   "source": [
    "## Dataset"
   ]
  },
  {
   "cell_type": "code",
   "execution_count": 4,
   "id": "3f66dc58-bc69-427b-b2ea-68de9460ca9e",
   "metadata": {},
   "outputs": [
    {
     "name": "stdout",
     "output_type": "stream",
     "text": [
      "Image batch dimensions: torch.Size([256, 1, 28, 28])\n",
      "Image label dimensions: torch.Size([256])\n"
     ]
    }
   ],
   "source": [
    "# Note transforms.ToTensor() scales input images\n",
    "# to 0-1 range\n",
    "train_dataset = datasets.MNIST(root='../data', \n",
    "                               train=True, \n",
    "                               transform=transforms.ToTensor(),\n",
    "                               download=True)\n",
    "\n",
    "test_dataset = datasets.MNIST(root='../data', \n",
    "                              train=False, \n",
    "                              transform=transforms.ToTensor())\n",
    "\n",
    "\n",
    "train_loader = DataLoader(dataset=train_dataset, \n",
    "                          batch_size=batch_size, \n",
    "                          shuffle=True)\n",
    "\n",
    "test_loader = DataLoader(dataset=test_dataset, \n",
    "                         batch_size=batch_size, \n",
    "                         shuffle=False)\n",
    "\n",
    "# Checking the dataset\n",
    "for images, labels in train_loader:  \n",
    "    print('Image batch dimensions:', images.shape)\n",
    "    print('Image label dimensions:', labels.shape)\n",
    "    break"
   ]
  },
  {
   "cell_type": "markdown",
   "id": "6524d257-7d5a-4fba-8d96-eaf5f2f7fad6",
   "metadata": {},
   "source": [
    "## Model"
   ]
  },
  {
   "cell_type": "code",
   "execution_count": 8,
   "id": "0aaf45a1-87e0-402f-8607-6ff8c1c8a9c4",
   "metadata": {},
   "outputs": [],
   "source": [
    "class Autoencoder(torch.nn.Module):\n",
    "\n",
    "    def __init__(self, num_features):\n",
    "        super(Autoencoder, self).__init__()\n",
    "\n",
    "        ## Encoder\n",
    "        self.linear_1 = torch.nn.Linear(num_features, num_hidden_1)\n",
    "        \n",
    "        ## Decoder\n",
    "        self.linear_2 = torch.nn.Linear(num_hidden_1, num_features)\n",
    "\n",
    "    def forward(self, x):\n",
    "        ## Encoder\n",
    "        encoded = self.linear_1(x)\n",
    "        encoded = F.leaky_relu(encoded)\n",
    "\n",
    "        ## Decoder\n",
    "        logits = self.linear_2(encoded)\n",
    "        decoded = torch.sigmoid(logits)\n",
    "\n",
    "        return decoded\n",
    "\n",
    "torch.manual_seed(random_seed)\n",
    "model = Autoencoder(num_features=num_features)\n",
    "model = model.to(device)\n",
    "\n",
    "optimizer = torch.optim.Adam(model.parameters(), lr=learning_rate)"
   ]
  },
  {
   "cell_type": "markdown",
   "id": "c6a027f5-8c36-4b18-9810-3405af69d989",
   "metadata": {},
   "source": [
    "## Training"
   ]
  },
  {
   "cell_type": "code",
   "execution_count": 9,
   "id": "0d5bc31f-a3eb-4a7e-b998-7c7f8734e446",
   "metadata": {},
   "outputs": [
    {
     "name": "stdout",
     "output_type": "stream",
     "text": [
      "Epoch: 001/005 | Batch 000/235 | Cost: 0.6982\n",
      "Epoch: 001/005 | Batch 050/235 | Cost: 0.2348\n",
      "Epoch: 001/005 | Batch 100/235 | Cost: 0.1841\n",
      "Epoch: 001/005 | Batch 150/235 | Cost: 0.1621\n",
      "Epoch: 001/005 | Batch 200/235 | Cost: 0.1494\n",
      "Time elapsed: 0.05 min\n",
      "Epoch: 002/005 | Batch 000/235 | Cost: 0.1364\n",
      "Epoch: 002/005 | Batch 050/235 | Cost: 0.1321\n",
      "Epoch: 002/005 | Batch 100/235 | Cost: 0.1268\n",
      "Epoch: 002/005 | Batch 150/235 | Cost: 0.1191\n",
      "Epoch: 002/005 | Batch 200/235 | Cost: 0.1101\n",
      "Time elapsed: 0.09 min\n",
      "Epoch: 003/005 | Batch 000/235 | Cost: 0.1124\n",
      "Epoch: 003/005 | Batch 050/235 | Cost: 0.1106\n",
      "Epoch: 003/005 | Batch 100/235 | Cost: 0.1087\n",
      "Epoch: 003/005 | Batch 150/235 | Cost: 0.1109\n",
      "Epoch: 003/005 | Batch 200/235 | Cost: 0.1028\n",
      "Time elapsed: 0.13 min\n",
      "Epoch: 004/005 | Batch 000/235 | Cost: 0.1037\n",
      "Epoch: 004/005 | Batch 050/235 | Cost: 0.1043\n",
      "Epoch: 004/005 | Batch 100/235 | Cost: 0.0995\n",
      "Epoch: 004/005 | Batch 150/235 | Cost: 0.1014\n",
      "Epoch: 004/005 | Batch 200/235 | Cost: 0.0990\n",
      "Time elapsed: 0.17 min\n",
      "Epoch: 005/005 | Batch 000/235 | Cost: 0.1005\n",
      "Epoch: 005/005 | Batch 050/235 | Cost: 0.1016\n",
      "Epoch: 005/005 | Batch 100/235 | Cost: 0.0980\n",
      "Epoch: 005/005 | Batch 150/235 | Cost: 0.1002\n",
      "Epoch: 005/005 | Batch 200/235 | Cost: 0.0980\n",
      "Time elapsed: 0.21 min\n",
      "Total Training Time: 0.21 min\n"
     ]
    }
   ],
   "source": [
    "start_time = time.time()\n",
    "for epoch in range(num_epochs):\n",
    "    for batch_idx, (features, targets) in enumerate(train_loader):\n",
    "\n",
    "        # don't need labels as we try to recreate images\n",
    "        features = features.view(-1, 28*28).to(device)\n",
    "\n",
    "        # Forwards & Back prop\n",
    "        decoded = model(features)\n",
    "        cost = F.binary_cross_entropy(decoded, features)\n",
    "        optimizer.zero_grad()\n",
    "\n",
    "        cost.backward()\n",
    "\n",
    "        optimizer.step()\n",
    "\n",
    "        ## Logging\n",
    "        if not batch_idx % 50:\n",
    "            print ('Epoch: %03d/%03d | Batch %03d/%03d | Cost: %.4f' \n",
    "                   %(epoch+1, num_epochs, batch_idx, \n",
    "                     len(train_loader), cost))\n",
    "            \n",
    "    print('Time elapsed: %.2f min' % ((time.time() - start_time)/60))\n",
    "    \n",
    "print('Total Training Time: %.2f min' % ((time.time() - start_time)/60))"
   ]
  },
  {
   "cell_type": "markdown",
   "id": "b8e2f179-5068-4e3c-954a-7cfdeb8b0f0a",
   "metadata": {},
   "source": [
    "## Evaluation"
   ]
  },
  {
   "cell_type": "code",
   "execution_count": 13,
   "id": "97942c7a-6498-4791-ab72-6fe12c3efa54",
   "metadata": {},
   "outputs": [
    {
     "data": {
      "image/png": "[encoded data removed]",
      "text/plain": [
       "<Figure size 2000x250 with 30 Axes>"
      ]
     },
     "metadata": {},
     "output_type": "display_data"
    }
   ],
   "source": [
    "%matplotlib inline\n",
    "import matplotlib.pyplot as plt\n",
    "\n",
    "n_images = 15\n",
    "image_width = 28\n",
    "\n",
    "fig, axes = plt.subplots(nrows=2, ncols=n_images,\n",
    "                         sharex=True, sharey=True, figsize=(20, 2.5))\n",
    "orig_images = features[:n_images]\n",
    "decoded_images = decoded[:n_images]\n",
    "\n",
    "for i in range(n_images):\n",
    "    for ax, img in zip(axes, [orig_images, decoded_images]):\n",
    "        curr_img = img[i].detach().to(torch.device('cpu'))\n",
    "        ax[i].imshow(curr_img.view((image_width, image_width)), cmap='binary')"
   ]
  },
  {
   "cell_type": "code",
   "execution_count": null,
   "id": "3f855e4b-014f-46b8-8b09-8b7c6da7456b",
   "metadata": {},
   "outputs": [],
   "source": []
  }
 ],
 "metadata": {
  "kernelspec": {
   "display_name": "Python 3 (ipykernel)",
   "language": "python",
   "name": "python3"
  },
  "language_info": {
   "codemirror_mode": {
    "name": "ipython",
    "version": 3
   },
   "file_extension": ".py",
   "mimetype": "text/x-python",
   "name": "python",
   "nbconvert_exporter": "python",
   "pygments_lexer": "ipython3",
   "version": "3.9.19"
  }
 },
 "nbformat": 4,
 "nbformat_minor": 5
}
